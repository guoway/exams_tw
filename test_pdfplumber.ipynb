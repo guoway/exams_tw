{
 "cells": [
  {
   "cell_type": "code",
   "execution_count": 1,
   "metadata": {},
   "outputs": [],
   "source": [
    "import json\n",
    "import os\n",
    "import re\n",
    "import pdfplumber\n",
    "from PIL import Image, ImageOps\n",
    "import io\n"
   ]
  },
  {
   "cell_type": "code",
   "execution_count": 2,
   "metadata": {},
   "outputs": [
    {
     "name": "stdout",
     "output_type": "stream",
     "text": [
      "13\n",
      "已合併圖片 1，儲存至: merged_images/merged_8_1.png\n",
      "原始座標範圍: x0=182.82, y0=458.24, x1=412.85, y1=628.28\n",
      "已合併圖片 2，儲存至: merged_images/merged_8_2.png\n",
      "原始座標範圍: x0=168.54, y0=261.68, x1=427.20, y1=431.66\n",
      "已合併圖片 3，儲存至: merged_images/merged_8_3.png\n",
      "原始座標範圍: x0=244.74, y0=52.04, x1=473.21, y1=236.36\n"
     ]
    }
   ],
   "source": [
    "file = os.path.join(\"question_bank\", \"101030_101_02_Q.pdf\")\n",
    "\n",
    "with pdfplumber.open(file) as pdf:\n",
    "    page = pdf.pages[7]\n",
    "    as_img = page.to_image()\n",
    "    \n",
    "    images = page.images\n",
    "    print(len(images))\n",
    "    \n",
    "    # 依x0分組圖片\n",
    "    grouped_images = {}\n",
    "    for img in images:\n",
    "        x0 = img['x0']\n",
    "        if x0 not in grouped_images:\n",
    "            grouped_images[x0] = []\n",
    "        grouped_images[x0].append(img)\n",
    "\n",
    "    # 建立合併圖片儲存目錄\n",
    "    os.makedirs(\"merged_images\", exist_ok=True)\n",
    "    \n",
    "    # 遍歷每組圖片進行合併\n",
    "    for group_idx, (group_key, imgs) in enumerate(grouped_images.items(), 1):\n",
    "        if not imgs:\n",
    "            continue\n",
    "            \n",
    "        # 依y0排序圖片（PDF座標y0越小表示越上方）\n",
    "        sorted_imgs = sorted(imgs, key=lambda x: x['y0'], reverse=True)\n",
    "        \n",
    "        # 提取所有PIL圖片並計算總尺寸\n",
    "        pil_imgs = []\n",
    "        total_height = 0\n",
    "        max_width = 0\n",
    "        for img in sorted_imgs:\n",
    "            stream = img['stream']\n",
    "            pil_img = Image.open(io.BytesIO(stream.get_data()))\n",
    "            pil_imgs.append(pil_img)\n",
    "            total_height += pil_img.height\n",
    "            max_width = max(max_width, pil_img.width)\n",
    "        \n",
    "        # 建立空白畫布並合併圖片\n",
    "        merged_img = Image.new('RGB', (max_width, total_height))\n",
    "        y_offset = 0\n",
    "        for pil_img in pil_imgs:\n",
    "            merged_img.paste(pil_img, (0, y_offset))\n",
    "            y_offset += pil_img.height\n",
    "        \n",
    "        # 儲存合併後的圖片\n",
    "        output_path = os.path.join(\"merged_images\", f\"merged_{page.page_number}_{group_idx}.png\")\n",
    "        merged_img.save(output_path, \"PNG\")\n",
    "        \n",
    "        # 計算合併後圖片的實際座標範圍\n",
    "        x0 = min(img['x0'] for img in sorted_imgs)\n",
    "        x1 = max(img['x1'] for img in sorted_imgs)\n",
    "        y0 = min(img['y0'] for img in sorted_imgs)\n",
    "        y1 = max(img['y1'] for img in sorted_imgs)\n",
    "        \n",
    "        print(f\"已合併圖片 {group_idx}，儲存至: {output_path}\")\n",
    "        print(f\"原始座標範圍: x0={x0:.2f}, y0={y0:.2f}, x1={x1:.2f}, y1={y1:.2f}\")\n",
    "    \n",
    "\n",
    "    \n",
    "    \n",
    "    # as_img.show()\n",
    "    # as_img.draw_rects(page.extract_text())\n",
    "    # as_img.save(f\"{pdf_name}_page0.png\")"
   ]
  }
 ],
 "metadata": {
  "kernelspec": {
   "display_name": ".venv",
   "language": "python",
   "name": "python3"
  },
  "language_info": {
   "codemirror_mode": {
    "name": "ipython",
    "version": 3
   },
   "file_extension": ".py",
   "mimetype": "text/x-python",
   "name": "python",
   "nbconvert_exporter": "python",
   "pygments_lexer": "ipython3",
   "version": "3.12.9"
  }
 },
 "nbformat": 4,
 "nbformat_minor": 2
}
